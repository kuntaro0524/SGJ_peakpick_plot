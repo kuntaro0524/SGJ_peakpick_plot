{
 "cells": [
  {
   "cell_type": "markdown",
   "id": "a81e9544-4789-4e97-b21c-8a768a503ad5",
   "metadata": {},
   "source": [
    "# BL19XU実験\n",
    "## 回転中心 .vs. 試料位置\n",
    "+ 回転振動写真法で測定するとき結晶がどのくらいずれるのか？"
   ]
  },
  {
   "cell_type": "raw",
   "id": "39862271-8649-49b3-8e54-7c5e46999097",
   "metadata": {},
   "source": [
    "import numpy as np\n",
    "from matplotlib import pylab as plt"
   ]
  },
  {
   "cell_type": "markdown",
   "id": "6152a97e-b164-4cca-b1b2-a1755d09d44c",
   "metadata": {},
   "source": [
    "* 振動角度の上限"
   ]
  },
  {
   "cell_type": "code",
   "execution_count": 35,
   "id": "f5f2c6c5-089a-491c-8f7a-e1fcde7c1540",
   "metadata": {},
   "outputs": [],
   "source": [
    "osc_max = 20.0"
   ]
  },
  {
   "cell_type": "markdown",
   "id": "ea9f4acb-e9b4-4c37-90a0-1ae1428f9dc3",
   "metadata": {},
   "source": [
    "+ 片側Wing"
   ]
  },
  {
   "cell_type": "code",
   "execution_count": 41,
   "id": "a8fd40ca-1fef-4e13-8e72-2d5eaba55219",
   "metadata": {},
   "outputs": [],
   "source": [
    "osc_wing = osc_max /2.0"
   ]
  },
  {
   "cell_type": "code",
   "execution_count": 37,
   "id": "5ded526a-d47b-4cf4-9a4a-fbdfa21cbe5c",
   "metadata": {},
   "outputs": [
    {
     "name": "stdout",
     "output_type": "stream",
     "text": [
      "0.984807753012208\n"
     ]
    }
   ],
   "source": [
    "delta_dist = np.arange(0,100,10.0)\n",
    "delta_dist\n",
    "print(np.cos(np.radians(osc_wing)))"
   ]
  },
  {
   "cell_type": "code",
   "execution_count": 38,
   "id": "575f2f66-6362-4d01-8bd1-d783652cb9fe",
   "metadata": {},
   "outputs": [],
   "source": [
    "rotation_diff_dist = delta_dist * (1-np.cos(np.radians(osc_wing)))"
   ]
  },
  {
   "cell_type": "code",
   "execution_count": 39,
   "id": "cf0931a5-7541-40dc-90c1-009a64e3eb57",
   "metadata": {},
   "outputs": [
    {
     "data": {
      "text/plain": [
       "array([0.        , 0.15192247, 0.30384494, 0.45576741, 0.60768988,\n",
       "       0.75961235, 0.91153482, 1.06345729, 1.21537976, 1.36730223])"
      ]
     },
     "execution_count": 39,
     "metadata": {},
     "output_type": "execute_result"
    }
   ],
   "source": [
    "rotation_diff_dist"
   ]
  },
  {
   "cell_type": "code",
   "execution_count": 43,
   "id": "ba4279a5-7d37-40d1-bc95-b96996bc810a",
   "metadata": {},
   "outputs": [
    {
     "data": {
      "text/plain": [
       "[<matplotlib.lines.Line2D at 0x7f8947f7aee0>]"
      ]
     },
     "execution_count": 43,
     "metadata": {},
     "output_type": "execute_result"
    },
    {
     "data": {
      "image/png": "[encoded data removed]",
      "text/plain": [
       "<Figure size 432x288 with 1 Axes>"
      ]
     },
     "metadata": {
      "needs_background": "light"
     },
     "output_type": "display_data"
    }
   ],
   "source": [
    "plt.xlabel(\"rotation[deg]\")\n",
    "plt.ylabel(\"Zure during diffraction data collection[um]\")\n",
    "plt.plot(delta_dist, rotation_diff_dist)"
   ]
  },
  {
   "cell_type": "code",
   "execution_count": null,
   "id": "2258053d-6cb5-4762-85ca-616aa4422183",
   "metadata": {},
   "outputs": [],
   "source": []
  },
  {
   "cell_type": "code",
   "execution_count": null,
   "id": "1f094eaa-b4f9-4402-a77d-3897cfa524b9",
   "metadata": {},
   "outputs": [],
   "source": []
  }
 ],
 "metadata": {
  "kernelspec": {
   "display_name": "Python 3",
   "language": "python",
   "name": "python3"
  },
  "language_info": {
   "codemirror_mode": {
    "name": "ipython",
    "version": 3
   },
   "file_extension": ".py",
   "mimetype": "text/x-python",
   "name": "python",
   "nbconvert_exporter": "python",
   "pygments_lexer": "ipython3",
   "version": "3.8.8"
  }
 },
 "nbformat": 4,
 "nbformat_minor": 5
}
