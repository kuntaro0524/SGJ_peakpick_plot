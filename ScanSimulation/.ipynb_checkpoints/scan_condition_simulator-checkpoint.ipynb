{
 "cells": [
  {
   "cell_type": "code",
   "execution_count": 1,
   "id": "ad72acb2-648f-42ae-ad8b-71029111cc61",
   "metadata": {},
   "outputs": [],
   "source": [
    "import numpy as np"
   ]
  },
  {
   "cell_type": "markdown",
   "id": "770f6e23-a9ca-46d4-bac1-fd127c5b8fa2",
   "metadata": {},
   "source": [
    "# Flux at BL19XU"
   ]
  },
  {
   "cell_type": "code",
   "execution_count": 2,
   "id": "d8f541ca-1085-46ef-8507-b012ab039f42",
   "metadata": {},
   "outputs": [],
   "source": [
    "flux = 1.5E13 #[phs/sec]"
   ]
  },
  {
   "cell_type": "code",
   "execution_count": 3,
   "id": "effc0eee-00bd-4637-b0d4-ed3ab5cebaef",
   "metadata": {},
   "outputs": [],
   "source": [
    "beamh=13.8\n",
    "beamv = 2.9"
   ]
  },
  {
   "cell_type": "code",
   "execution_count": 4,
   "id": "248ad59b-9104-46da-9cd5-3eb25c5a2542",
   "metadata": {},
   "outputs": [],
   "source": [
    "beam_area = beamh * beamv"
   ]
  },
  {
   "cell_type": "code",
   "execution_count": 5,
   "id": "e7731100-66e3-4fa2-b94c-d732734aa548",
   "metadata": {},
   "outputs": [],
   "source": [
    "flux_density = flux /  beam_area"
   ]
  },
  {
   "cell_type": "code",
   "execution_count": 6,
   "id": "76076b26-4552-4fc7-b214-d2a48c42a8a7",
   "metadata": {},
   "outputs": [
    {
     "name": "stdout",
     "output_type": "stream",
     "text": [
      "374812593703.1484\n"
     ]
    }
   ],
   "source": [
    "print(flux_density)"
   ]
  },
  {
   "cell_type": "markdown",
   "id": "d6ebda60-9d94-4869-a2ae-0d321a605b12",
   "metadata": {},
   "source": [
    "# 200 kGyの測定をしたい場合には？"
   ]
  },
  {
   "cell_type": "markdown",
   "id": "ee269aee-e972-4f03-83c0-56740b1be0f8",
   "metadata": {},
   "source": [
    "+ とりあえず露光時間を決定する"
   ]
  },
  {
   "cell_type": "code",
   "execution_count": 7,
   "id": "605660f0-bd06-4303-8f7c-2cdc365f0abd",
   "metadata": {},
   "outputs": [],
   "source": [
    "scan_exp = 0.02 # [sec/frame]"
   ]
  },
  {
   "cell_type": "code",
   "execution_count": 8,
   "id": "81a3d617-bdb4-4f6f-865f-d95283d5355b",
   "metadata": {},
   "outputs": [],
   "source": [
    "full_scan_density= scan_exp * flux_density"
   ]
  },
  {
   "cell_type": "code",
   "execution_count": 13,
   "id": "714ee0e2-f769-4746-905a-19f35abf1f87",
   "metadata": {},
   "outputs": [],
   "source": [
    "full_scan_dose = full_scan_density / 2E10 *10000 # [kGy]"
   ]
  },
  {
   "cell_type": "code",
   "execution_count": 14,
   "id": "1f32a183-ce68-47fe-acd8-59b6997731ff",
   "metadata": {},
   "outputs": [
    {
     "name": "stdout",
     "output_type": "stream",
     "text": [
      "3748.1259370314833\n"
     ]
    }
   ],
   "source": [
    "print(full_scan_dose)"
   ]
  },
  {
   "cell_type": "markdown",
   "id": "a3b6ea03-4142-4631-aeb9-458d25fe50a7",
   "metadata": {},
   "source": [
    "+ 減衰率を trans とすると"
   ]
  },
  {
   "cell_type": "code",
   "execution_count": 15,
   "id": "a6766613-2711-48dd-b826-b8a2399ad247",
   "metadata": {},
   "outputs": [
    {
     "name": "stdout",
     "output_type": "stream",
     "text": [
      "0.05336179295624333\n"
     ]
    }
   ],
   "source": [
    "trans = 200/3748.0\n",
    "print(trans)"
   ]
  },
  {
   "cell_type": "markdown",
   "id": "a2f262d0-ffc8-495e-ac90-37715dab94e1",
   "metadata": {},
   "source": [
    "# 検算してみよう"
   ]
  },
  {
   "cell_type": "code",
   "execution_count": 16,
   "id": "89a68340-eaa1-4482-999d-30d969353697",
   "metadata": {},
   "outputs": [
    {
     "name": "stdout",
     "output_type": "stream",
     "text": [
      "1.600854e+10\n"
     ]
    }
   ],
   "source": [
    "flux_per_frame = flux * scan_exp * trans\n",
    "print(\"%e\"%flux_per_frame)"
   ]
  },
  {
   "cell_type": "code",
   "execution_count": 17,
   "id": "077a7c3e-b7e0-4ad4-959e-b680a5e09db8",
   "metadata": {},
   "outputs": [
    {
     "name": "stdout",
     "output_type": "stream",
     "text": [
      "4.000134e+08\n"
     ]
    }
   ],
   "source": [
    "flux_density_per_frame = flux_per_frame / beam_area\n",
    "print(\"%e\"%flux_density_per_frame)"
   ]
  },
  {
   "cell_type": "code",
   "execution_count": 20,
   "id": "bd5a5eba-80fa-43f0-ab2a-2d013c94ae06",
   "metadata": {},
   "outputs": [
    {
     "name": "stdout",
     "output_type": "stream",
     "text": [
      "Dose=   200.00000 kGy\n"
     ]
    }
   ],
   "source": [
    "# どういうDoseなのか？\n",
    "dose_per_frame = 4E8 / 2E10 * 10000\n",
    "print(\"Dose=%12.5f kGy\"% dose_per_frame)"
   ]
  },
  {
   "cell_type": "code",
   "execution_count": null,
   "id": "a6f1200e-c906-49b0-ad67-ae4ad609c427",
   "metadata": {},
   "outputs": [],
   "source": []
  }
 ],
 "metadata": {
  "kernelspec": {
   "display_name": "Python 3",
   "language": "python",
   "name": "python3"
  },
  "language_info": {
   "codemirror_mode": {
    "name": "ipython",
    "version": 3
   },
   "file_extension": ".py",
   "mimetype": "text/x-python",
   "name": "python",
   "nbconvert_exporter": "python",
   "pygments_lexer": "ipython3",
   "version": "3.8.8"
  }
 },
 "nbformat": 4,
 "nbformat_minor": 5
}
